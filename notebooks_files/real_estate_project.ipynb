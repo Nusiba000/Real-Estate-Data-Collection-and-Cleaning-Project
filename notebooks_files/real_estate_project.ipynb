{
 "cells": [
  {
   "cell_type": "markdown",
   "id": "fd88b12d-785d-41bb-a399-679f669a18a3",
   "metadata": {},
   "source": [
    "# Real Estate Data Collection and Cleaning Project"
   ]
  },
  {
   "cell_type": "markdown",
   "id": "488f8547-279a-4b3f-8169-60473170cf9c",
   "metadata": {},
   "source": [
    "Collects the data from two real estate websites in Oman:\n",
    "- [Bayut Oman](https://www.bayut.om/en/)\n",
    "- [OpenSooq Oman](https://om.opensooq.com/en/property)"
   ]
  },
  {
   "cell_type": "code",
   "execution_count": 61,
   "id": "1fbd3b89-0e2c-4f6f-8bdc-d3e852ebe835",
   "metadata": {},
   "outputs": [],
   "source": [
    "import pandas as pd\n",
    "import seaborn as sns\n",
    "import matplotlib.pyplot as plt\n",
    "from sklearn.preprocessing import MinMaxScaler, StandardScaler"
   ]
  },
  {
   "cell_type": "code",
   "execution_count": 38,
   "id": "9db744ed-7023-4ba9-8338-f9b6ad599523",
   "metadata": {},
   "outputs": [
    {
     "data": {
      "text/html": [
       "<div>\n",
       "<style scoped>\n",
       "    .dataframe tbody tr th:only-of-type {\n",
       "        vertical-align: middle;\n",
       "    }\n",
       "\n",
       "    .dataframe tbody tr th {\n",
       "        vertical-align: top;\n",
       "    }\n",
       "\n",
       "    .dataframe thead th {\n",
       "        text-align: right;\n",
       "    }\n",
       "</style>\n",
       "<table border=\"1\" class=\"dataframe\">\n",
       "  <thead>\n",
       "    <tr style=\"text-align: right;\">\n",
       "      <th></th>\n",
       "      <th>title</th>\n",
       "      <th>price</th>\n",
       "      <th>location</th>\n",
       "      <th>rooms</th>\n",
       "      <th>size</th>\n",
       "      <th>listing_type</th>\n",
       "    </tr>\n",
       "  </thead>\n",
       "  <tbody>\n",
       "    <tr>\n",
       "      <th>0</th>\n",
       "      <td>Villa</td>\n",
       "      <td>1200</td>\n",
       "      <td>Al Buraimi, Al Buraimi</td>\n",
       "      <td>5.0</td>\n",
       "      <td>1.0</td>\n",
       "      <td>NaN</td>\n",
       "    </tr>\n",
       "    <tr>\n",
       "      <th>1</th>\n",
       "      <td>Villa</td>\n",
       "      <td>1500</td>\n",
       "      <td>Qantab, Muscat</td>\n",
       "      <td>5.0</td>\n",
       "      <td>1.0</td>\n",
       "      <td>NaN</td>\n",
       "    </tr>\n",
       "    <tr>\n",
       "      <th>2</th>\n",
       "      <td>Apartment</td>\n",
       "      <td>1200</td>\n",
       "      <td>Mahut, Al Wusta</td>\n",
       "      <td>3.0</td>\n",
       "      <td>1.0</td>\n",
       "      <td>NaN</td>\n",
       "    </tr>\n",
       "    <tr>\n",
       "      <th>3</th>\n",
       "      <td>Villa</td>\n",
       "      <td>1500</td>\n",
       "      <td>Al Sifah, Muscat</td>\n",
       "      <td>5.0</td>\n",
       "      <td>1.0</td>\n",
       "      <td>NaN</td>\n",
       "    </tr>\n",
       "    <tr>\n",
       "      <th>4</th>\n",
       "      <td>Villa</td>\n",
       "      <td>1000</td>\n",
       "      <td>Hamra, Al Dakhiliya</td>\n",
       "      <td>4.0</td>\n",
       "      <td>1.0</td>\n",
       "      <td>NaN</td>\n",
       "    </tr>\n",
       "  </tbody>\n",
       "</table>\n",
       "</div>"
      ],
      "text/plain": [
       "       title price                location  rooms  size listing_type\n",
       "0      Villa  1200  Al Buraimi, Al Buraimi    5.0   1.0          NaN\n",
       "1      Villa  1500          Qantab, Muscat    5.0   1.0          NaN\n",
       "2  Apartment  1200         Mahut, Al Wusta    3.0   1.0          NaN\n",
       "3      Villa  1500        Al Sifah, Muscat    5.0   1.0          NaN\n",
       "4      Villa  1000     Hamra, Al Dakhiliya    4.0   1.0          NaN"
      ]
     },
     "execution_count": 38,
     "metadata": {},
     "output_type": "execute_result"
    }
   ],
   "source": [
    "# Load both CSV files\n",
    "df1 = pd.read_csv(\"cleaned_bayut.csv\")\n",
    "df2 = pd.read_csv(\"cleaned_opensooq.csv\")\n",
    "\n",
    "# Optional: standardize column names (prevents mismatch)\n",
    "df1.columns = df1.columns.str.strip().str.lower()\n",
    "df2.columns = df2.columns.str.strip().str.lower()\n",
    "\n",
    "# Concatenate the two DataFrames\n",
    "df_combined = pd.concat([df1, df2], ignore_index=True)\n",
    "\n",
    "# Show result\n",
    "df_combined.head()"
   ]
  },
  {
   "cell_type": "code",
   "execution_count": 40,
   "id": "5ef15ccb-2ec6-4db5-9f99-97ed74044910",
   "metadata": {},
   "outputs": [],
   "source": [
    "df_combined = df_combined.drop(columns=['listing_type'])"
   ]
  },
  {
   "cell_type": "code",
   "execution_count": 41,
   "id": "29c573e4-323d-4292-ab70-07a7ac56f0ba",
   "metadata": {},
   "outputs": [
    {
     "data": {
      "text/html": [
       "<div>\n",
       "<style scoped>\n",
       "    .dataframe tbody tr th:only-of-type {\n",
       "        vertical-align: middle;\n",
       "    }\n",
       "\n",
       "    .dataframe tbody tr th {\n",
       "        vertical-align: top;\n",
       "    }\n",
       "\n",
       "    .dataframe thead th {\n",
       "        text-align: right;\n",
       "    }\n",
       "</style>\n",
       "<table border=\"1\" class=\"dataframe\">\n",
       "  <thead>\n",
       "    <tr style=\"text-align: right;\">\n",
       "      <th></th>\n",
       "      <th>title</th>\n",
       "      <th>price</th>\n",
       "      <th>location</th>\n",
       "      <th>rooms</th>\n",
       "      <th>size</th>\n",
       "    </tr>\n",
       "  </thead>\n",
       "  <tbody>\n",
       "    <tr>\n",
       "      <th>0</th>\n",
       "      <td>Villa</td>\n",
       "      <td>1200</td>\n",
       "      <td>Al Buraimi, Al Buraimi</td>\n",
       "      <td>5.0</td>\n",
       "      <td>1.0</td>\n",
       "    </tr>\n",
       "    <tr>\n",
       "      <th>1</th>\n",
       "      <td>Villa</td>\n",
       "      <td>1500</td>\n",
       "      <td>Qantab, Muscat</td>\n",
       "      <td>5.0</td>\n",
       "      <td>1.0</td>\n",
       "    </tr>\n",
       "    <tr>\n",
       "      <th>2</th>\n",
       "      <td>Apartment</td>\n",
       "      <td>1200</td>\n",
       "      <td>Mahut, Al Wusta</td>\n",
       "      <td>3.0</td>\n",
       "      <td>1.0</td>\n",
       "    </tr>\n",
       "    <tr>\n",
       "      <th>3</th>\n",
       "      <td>Villa</td>\n",
       "      <td>1500</td>\n",
       "      <td>Al Sifah, Muscat</td>\n",
       "      <td>5.0</td>\n",
       "      <td>1.0</td>\n",
       "    </tr>\n",
       "    <tr>\n",
       "      <th>4</th>\n",
       "      <td>Villa</td>\n",
       "      <td>1000</td>\n",
       "      <td>Hamra, Al Dakhiliya</td>\n",
       "      <td>4.0</td>\n",
       "      <td>1.0</td>\n",
       "    </tr>\n",
       "  </tbody>\n",
       "</table>\n",
       "</div>"
      ],
      "text/plain": [
       "       title price                location  rooms  size\n",
       "0      Villa  1200  Al Buraimi, Al Buraimi    5.0   1.0\n",
       "1      Villa  1500          Qantab, Muscat    5.0   1.0\n",
       "2  Apartment  1200         Mahut, Al Wusta    3.0   1.0\n",
       "3      Villa  1500        Al Sifah, Muscat    5.0   1.0\n",
       "4      Villa  1000     Hamra, Al Dakhiliya    4.0   1.0"
      ]
     },
     "execution_count": 41,
     "metadata": {},
     "output_type": "execute_result"
    }
   ],
   "source": [
    "df_combined.head()"
   ]
  },
  {
   "cell_type": "code",
   "execution_count": 42,
   "id": "7fd3b435-81f4-455c-b5d4-6a5eaee23364",
   "metadata": {},
   "outputs": [
    {
     "data": {
      "text/plain": [
       "(10098, 5)"
      ]
     },
     "execution_count": 42,
     "metadata": {},
     "output_type": "execute_result"
    }
   ],
   "source": [
    "df_combined.shape"
   ]
  },
  {
   "cell_type": "code",
   "execution_count": 43,
   "id": "e6ce62ee-c1b3-4cef-ab87-e1a993466f2e",
   "metadata": {},
   "outputs": [],
   "source": [
    "df_combined.to_csv('real_estate_project.csv', index=False)"
   ]
  },
  {
   "cell_type": "markdown",
   "id": "bd2cc0cc-d415-4054-8884-551b884997cb",
   "metadata": {},
   "source": [
    "### Feature Engineering"
   ]
  },
  {
   "cell_type": "code",
   "execution_count": 48,
   "id": "cb265b72-0f9f-4d92-b824-ac5b592f745d",
   "metadata": {},
   "outputs": [],
   "source": [
    "# remove non-numeric characters (like currency or commas)\n",
    "df_combined['price'] = df_combined['price'].astype(str).str.replace(r'[^\\d.]', '', regex=True)\n",
    "\n",
    "# Convert to numeric\n",
    "df_combined['price'] = pd.to_numeric(df_combined['price'], errors='coerce')\n",
    "\n",
    "df_combined['price_per_sqm'] = df_combined['price'] / df_combined['size']"
   ]
  },
  {
   "cell_type": "code",
   "execution_count": 50,
   "id": "7938251e-038f-493b-b0e2-742f5d5f90be",
   "metadata": {},
   "outputs": [
    {
     "data": {
      "text/html": [
       "<div>\n",
       "<style scoped>\n",
       "    .dataframe tbody tr th:only-of-type {\n",
       "        vertical-align: middle;\n",
       "    }\n",
       "\n",
       "    .dataframe tbody tr th {\n",
       "        vertical-align: top;\n",
       "    }\n",
       "\n",
       "    .dataframe thead th {\n",
       "        text-align: right;\n",
       "    }\n",
       "</style>\n",
       "<table border=\"1\" class=\"dataframe\">\n",
       "  <thead>\n",
       "    <tr style=\"text-align: right;\">\n",
       "      <th></th>\n",
       "      <th>price</th>\n",
       "      <th>price_per_sqm</th>\n",
       "    </tr>\n",
       "  </thead>\n",
       "  <tbody>\n",
       "    <tr>\n",
       "      <th>0</th>\n",
       "      <td>1200.0</td>\n",
       "      <td>1200.0</td>\n",
       "    </tr>\n",
       "    <tr>\n",
       "      <th>1</th>\n",
       "      <td>1500.0</td>\n",
       "      <td>1500.0</td>\n",
       "    </tr>\n",
       "    <tr>\n",
       "      <th>2</th>\n",
       "      <td>1200.0</td>\n",
       "      <td>1200.0</td>\n",
       "    </tr>\n",
       "    <tr>\n",
       "      <th>3</th>\n",
       "      <td>1500.0</td>\n",
       "      <td>1500.0</td>\n",
       "    </tr>\n",
       "    <tr>\n",
       "      <th>4</th>\n",
       "      <td>1000.0</td>\n",
       "      <td>1000.0</td>\n",
       "    </tr>\n",
       "  </tbody>\n",
       "</table>\n",
       "</div>"
      ],
      "text/plain": [
       "    price  price_per_sqm\n",
       "0  1200.0         1200.0\n",
       "1  1500.0         1500.0\n",
       "2  1200.0         1200.0\n",
       "3  1500.0         1500.0\n",
       "4  1000.0         1000.0"
      ]
     },
     "execution_count": 50,
     "metadata": {},
     "output_type": "execute_result"
    }
   ],
   "source": [
    "df_combined[[\"price\", \"price_per_sqm\"]].head()"
   ]
  },
  {
   "cell_type": "code",
   "execution_count": 53,
   "id": "7c0c26e1-34e4-42b0-9a9c-49e7dc846077",
   "metadata": {},
   "outputs": [
    {
     "data": {
      "image/png": "[encoded data removed]",
      "text/plain": [
       "<Figure size 1000x600 with 1 Axes>"
      ]
     },
     "metadata": {},
     "output_type": "display_data"
    }
   ],
   "source": [
    "plt.figure(figsize=(10, 6))\n",
    "sns.boxplot(x=df_combined[\"price_per_sqm\"])\n",
    "plt.title(\"Price per Square Meter\")\n",
    "plt.xlabel(\"Price per Sqm\")\n",
    "plt.show()"
   ]
  },
  {
   "cell_type": "code",
   "execution_count": 55,
   "id": "b91f0a9f-4859-4e5a-bc7d-beb479e56a09",
   "metadata": {},
   "outputs": [],
   "source": [
    "# Remove the outliers:\n",
    "Q1 = df_combined['price_per_sqm'].quantile(0.25)\n",
    "Q3 = df_combined['price_per_sqm'].quantile(0.75)\n",
    "\n",
    "IQR = Q3 - Q1\n",
    "\n",
    "# Define lower and upper bounds for outliers\n",
    "lower_bound = Q1 - 1.5 * IQR\n",
    "upper_bound = Q3 + 1.5 * IQR\n",
    "\n",
    "# Keep only rows within bounds (remove outliers)\n",
    "df_combined = df_combined[\n",
    "    (df_combined['price_per_sqm'] >= lower_bound) &\n",
    "    (df_combined['price_per_sqm'] <= upper_bound)\n",
    "]\n"
   ]
  },
  {
   "cell_type": "code",
   "execution_count": 57,
   "id": "4dae889c-02bf-497c-b14a-ca99f13b94df",
   "metadata": {},
   "outputs": [
    {
     "name": "stdout",
     "output_type": "stream",
     "text": [
      "Remaining rows: 9225\n"
     ]
    }
   ],
   "source": [
    "print(\"Remaining rows:\", df_combined.shape[0])"
   ]
  },
  {
   "cell_type": "code",
   "execution_count": 58,
   "id": "d303c1f3-4f2a-41ab-87b8-f408b308237c",
   "metadata": {},
   "outputs": [
    {
     "data": {
      "image/png": "[encoded data removed]",
      "text/plain": [
       "<Figure size 1000x600 with 1 Axes>"
      ]
     },
     "metadata": {},
     "output_type": "display_data"
    }
   ],
   "source": [
    "plt.figure(figsize=(10, 6))\n",
    "sns.boxplot(x=df_combined['price_per_sqm'])\n",
    "plt.title(\"Price per Sqm (After Outlier Removal)\")\n",
    "plt.xlabel(\"Price per Sqm\")\n",
    "plt.show()"
   ]
  },
  {
   "cell_type": "markdown",
   "id": "ba7125a4-cfc3-4b26-9cee-6743b3e0b035",
   "metadata": {},
   "source": [
    "### Feature Scaling"
   ]
  },
  {
   "cell_type": "code",
   "execution_count": 62,
   "id": "5fc1e147-6b09-4c5b-9e68-3abf3581cc88",
   "metadata": {},
   "outputs": [
    {
     "name": "stdout",
     "output_type": "stream",
     "text": [
      "MinMax Scaled Data:\n",
      "       price     rooms          size  price_per_sqm\n",
      "4   0.000096  0.272727  0.000000e+00       0.859296\n",
      "5   0.011996  0.181818  5.075708e-08       0.937414\n",
      "6   0.009996  0.090909  4.610047e-08       0.859296\n",
      "9   0.002196  0.090909  5.168840e-08       0.168790\n",
      "11  0.038996  0.181818  2.188608e-07       0.711519\n"
     ]
    }
   ],
   "source": [
    "from sklearn.preprocessing import MinMaxScaler, StandardScaler\n",
    "\n",
    "minmax_scaler = MinMaxScaler()\n",
    "standard_scaler = StandardScaler()\n",
    "\n",
    "# numeric columns to scale\n",
    "numeric_cols = ['price', 'rooms', 'size', 'price_per_sqm']\n",
    "\n",
    "# MinMax scaling (0 to 1)\n",
    "df_combined_minmax = df_combined.copy()\n",
    "df_combined_minmax[numeric_cols] = minmax_scaler.fit_transform(df_combined_minmax[numeric_cols])\n",
    "\n",
    "print(\"MinMax Scaled Data:\")\n",
    "print(df_combined_minmax[numeric_cols].head())"
   ]
  },
  {
   "cell_type": "code",
   "execution_count": 63,
   "id": "efe11e7e-4cc2-4c52-99bd-2af86f0c4a67",
   "metadata": {},
   "outputs": [
    {
     "name": "stdout",
     "output_type": "stream",
     "text": [
      "\n",
      "Standard Scaled Data:\n",
      "       price     rooms      size  price_per_sqm\n",
      "4  -0.296791  0.486392 -0.014492       2.560660\n",
      "5   0.284056 -0.039294 -0.014487       2.894196\n",
      "6   0.186435 -0.564980 -0.014488       2.560660\n",
      "9  -0.194289 -0.564980 -0.014487      -0.387558\n",
      "11  1.601945 -0.039294 -0.014472       1.929704\n"
     ]
    }
   ],
   "source": [
    "# Standard scaling (mean = 0, std = 1)\n",
    "df_combined_standard = df_combined.copy()\n",
    "df_combined_standard[numeric_cols] = standard_scaler.fit_transform(df_combined_standard[numeric_cols])\n",
    "\n",
    "print(\"\\nStandard Scaled Data:\")\n",
    "print(df_combined_standard[numeric_cols].head())"
   ]
  },
  {
   "cell_type": "code",
   "execution_count": null,
   "id": "bca4be60-8307-4be7-90a9-bffb7f498ff9",
   "metadata": {},
   "outputs": [],
   "source": []
  }
 ],
 "metadata": {
  "kernelspec": {
   "display_name": "Python [conda env:base] *",
   "language": "python",
   "name": "conda-base-py"
  },
  "language_info": {
   "codemirror_mode": {
    "name": "ipython",
    "version": 3
   },
   "file_extension": ".py",
   "mimetype": "text/x-python",
   "name": "python",
   "nbconvert_exporter": "python",
   "pygments_lexer": "ipython3",
   "version": "3.13.5"
  }
 },
 "nbformat": 4,
 "nbformat_minor": 5
}
